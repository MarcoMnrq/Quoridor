{
 "nbformat": 4,
 "nbformat_minor": 0,
 "metadata": {
  "colab": {
   "name": "Quoridor.ipynb",
   "provenance": []
  },
  "kernelspec": {
   "name": "python3",
   "language": "python",
   "display_name": "Python 3"
  }
 },
 "cells": [
  {
   "cell_type": "markdown",
   "metadata": {
    "id": "v5w99sFseuIt"
   },
   "source": [
    "Librerias usadas en el proyecto. Se uso PyGame para la interfaz grafica"
   ]
  },
  {
   "cell_type": "code",
   "metadata": {
    "id": "Rw7ly4YqdIuB"
   },
   "source": [
    "import pygame\n",
    "import networkx as nx\n",
    "from queue import PriorityQueue\n",
    "from math import inf\n",
    "import time"
   ],
   "execution_count": 1,
   "outputs": [
    {
     "name": "stdout",
     "output_type": "stream",
     "text": [
      "pygame 2.0.0 (SDL 2.0.12, python 3.8.5)\n",
      "Hello from the pygame community. https://www.pygame.org/contribute.html\n"
     ]
    }
   ]
  },
  {
   "cell_type": "markdown",
   "metadata": {
    "id": "ka5xc6ARfVCB"
   },
   "source": [
    "Inicializacion de algunas variables y parametros de PyGame"
   ]
  },
  {
   "cell_type": "code",
   "metadata": {
    "id": "Nd1PO1vZdVno"
   },
   "source": [
    "# Colors\n",
    "MARRON = (255, 255, 255)\n",
    "NEGRO = (0, 0, 0)\n",
    "AZUL = (0, 255, 0)\n",
    "\n",
    "# Table: 9x9\n",
    "DIM = 9\n",
    "RES = 720\n",
    "\n",
    "# Variable declaration\n",
    "running = True\n",
    "editorMode = False\n",
    "barriers = []\n",
    "pygame.init()\n",
    "Graph = nx.Graph()\n",
    "screen = pygame.display.set_mode((RES, RES))\n",
    "pygame.display.set_caption(\"Quoridor\")\n",
    "myfont = pygame.font.SysFont('Comic Sans MS', 30)\n",
    "textsurface = myfont.render('Modo edicion activado', False, (255, 0, 0))"
   ],
   "execution_count": 2,
   "outputs": []
  },
  {
   "cell_type": "markdown",
   "metadata": {
    "id": "FOZzRdHBfiAY"
   },
   "source": [
    "Estructura de Grafo que sirve como mapa (tipo red). Se usa la libreria \n",
    "networkx. Se crean todos los nodos y se agregan todas las conexiones"
   ]
  },
  {
   "cell_type": "code",
   "metadata": {
    "id": "QBUjAydseasr"
   },
   "source": [
    "# Add all the nodes\n",
    "for i in range(DIM * DIM):\n",
    "    Graph.add_node(i)\n",
    "Graph.add_node(81)\n",
    "\n",
    "# Add all the connections (edges)\n",
    "node = 0\n",
    "for i in range(DIM):\n",
    "    for j in range(DIM):\n",
    "        # (↑ ↓) connections\n",
    "        if i == DIM - 1:\n",
    "            Graph.add_edge(node, 81, weight=1)\n",
    "        if i != (DIM - 1):\n",
    "            Graph.add_edge(node, node + DIM, weight=1)\n",
    "        # (← →) connections\n",
    "        if j != (DIM - 1):\n",
    "            Graph.add_edge(node, node + 1, weight=1)\n",
    "        node = node + 1"
   ],
   "execution_count": 3,
   "outputs": []
  },
  {
   "cell_type": "markdown",
   "metadata": {
    "id": "ZDNMm8upf_H4"
   },
   "source": [
    "Funciones de cost, reconstruccion de camino y la distancia manhattan para los algoritmos de pathfinding usados: AStar y Dijkstra"
   ]
  },
  {
   "cell_type": "code",
   "metadata": {
    "id": "pWW2C7mEdmcq"
   },
   "source": [
    "def cost(u, v):\n",
    "    if Graph.get_edge_data(u, v).get('weight') != 1:\n",
    "        pygame.quit()\n",
    "        print(\"EL COSTO NO FUE UNO\")\n",
    "    return Graph.get_edge_data(u, v).get('weight')\n",
    "\n",
    "\n",
    "def reconstruct_path(prev, source, target):\n",
    "    node = target\n",
    "    path = []\n",
    "    while node != source:\n",
    "        path.append(node)\n",
    "        node = prev[node]\n",
    "    path.append(node)\n",
    "    path.reverse()\n",
    "    return path\n",
    "\n",
    "\n",
    "def manhattan(p1, p2):\n",
    "    x1, y1 = p1\n",
    "    x2, y2 = p2\n",
    "    return abs(x1 - x2) + abs(y1 - y2)"
   ],
   "execution_count": 4,
   "outputs": []
  },
  {
   "cell_type": "markdown",
   "metadata": {
    "id": "9FSxVWT0gXUr"
   },
   "source": [
    "Dijkstra Pathfinding Algoritmo usando networkx"
   ]
  },
  {
   "cell_type": "code",
   "metadata": {
    "id": "B3yARVZad7MK"
   },
   "source": [
    "def dijkstra(start, end):\n",
    "    # Variable Declaration\n",
    "    pq = PriorityQueue()\n",
    "    visited = set()\n",
    "    previous = {}\n",
    "    \n",
    "    distances = {v: inf for v in list(nx.nodes(Graph))}\n",
    "    distances[start] = 0\n",
    "    pq.put((distances[start], start))\n",
    "    # While the priority queue has data\n",
    "    while not pq.empty():\n",
    "        distance, current = pq.get()\n",
    "        visited.add(current)\n",
    "        for neighbor in dict(Graph.adjacency()).get(current):\n",
    "            route = distances[current] + cost(current, neighbor)\n",
    "            if route < distances[neighbor]:\n",
    "                distances[neighbor] = route\n",
    "                previous[neighbor] = current\n",
    "                if neighbor not in visited:\n",
    "                    visited.add(neighbor)\n",
    "                    pq.put((distances[neighbor], neighbor))\n",
    "                else:\n",
    "                    _ = pq.get((distances[neighbor], neighbor))\n",
    "                    pq.put((distances[neighbor], neighbor))\n",
    "    return reconstruct_path(previous, start, end)"
   ],
   "execution_count": 5,
   "outputs": []
  },
  {
   "cell_type": "markdown",
   "metadata": {
    "id": "fOx5LopxgdXb"
   },
   "source": [
    "AStar Pathfinding Algoritmo con networkx"
   ]
  },
  {
   "cell_type": "code",
   "metadata": {
    "id": "5tEtevUtd930"
   },
   "source": [
    "def a_star(start, final):\n",
    "    # Variable Declaration\n",
    "    g = {g: float(\"inf\") for g in list(nx.nodes(Graph))}\n",
    "    f = {f: float(\"inf\") for f in list(nx.nodes(Graph))}\n",
    "    count = 0\n",
    "    pq = PriorityQueue()\n",
    "    pq.put((0, count, start))\n",
    "    previous = {}\n",
    "    \n",
    "    g[start] = 0\n",
    "    f[start] = cost(start, final)\n",
    "    open_set_hash = {start}\n",
    "    while not pq.empty():\n",
    "        current = pq.get()[2]\n",
    "        open_set_hash.remove(current)\n",
    "        if current == final:\n",
    "            return reconstruct_path(previous, start, final)\n",
    "        for neighbor in dict(Graph.adjacency()).get(current):\n",
    "            temp_g_score = g[current] + 1\n",
    "            if temp_g_score < g[neighbor]:\n",
    "                previous[neighbor] = current\n",
    "                g[neighbor] = temp_g_score\n",
    "                f[neighbor] = temp_g_score + cost(neighbor, final)\n",
    "                if neighbor not in open_set_hash:\n",
    "                    count += 1\n",
    "                    pq.put((f[neighbor], count, neighbor))\n",
    "                    open_set_hash.add(neighbor)\n",
    "                    neighbor.make_open()\n",
    "    return reconstruct_path(previous, start, final)"
   ],
   "execution_count": 6,
   "outputs": []
  },
  {
   "cell_type": "markdown",
   "metadata": {
    "id": "HC14ahnbgiqQ"
   },
   "source": [
    "Clase que maneja el Bot y sus metodos. Aqui tambien se llama a los algoritmos de pathfinding"
   ]
  },
  {
   "cell_type": "code",
   "metadata": {
    "id": "HT3N5q7IeCIB"
   },
   "source": [
    "# Bot Class\n",
    "class Bot:\n",
    "    def __init__(self, node, x, y, barriers, name):\n",
    "        self.node = node\n",
    "        self.barriers = barriers\n",
    "        self.name = name\n",
    "        self.x = x\n",
    "        self.y = y\n",
    "        self.type = type\n",
    "        self.step = 80\n",
    "        self.width = 60\n",
    "\n",
    "    def make_move(self):\n",
    "        # route = dijkstra(self.node, 81)\n",
    "        route = nx.astar_path(Graph, self.node, 81)\n",
    "        print(route)\n",
    "        \"\"\"\"\"\n",
    "        print(nx.shortest_path(Graph, self.node, 81))\n",
    "        print(nx.astar_path(Graph, self.node, 81))\n",
    "        print(nx.dijkstra_path(Graph, self.node, 81))\n",
    "        print(nx.bellman_ford_path(Graph, self.node, 81))\n",
    "        \"\"\"\"\"\n",
    "        if not len(route) == 0:\n",
    "            if route[1] == self.node + 1:\n",
    "                self.move_right()\n",
    "            elif route[1] == self.node - 1:\n",
    "                self.move_left()\n",
    "            elif route[1] == self.node + DIM:\n",
    "                self.move_down()\n",
    "            elif route[1] == self.node - DIM:\n",
    "                self.move_up()\n",
    "\n",
    "    def move_up(self):\n",
    "        if Graph.has_edge(self.node, self.node - DIM):\n",
    "            self.y = self.y - self.step\n",
    "            self.node = self.node - DIM\n",
    "            return True\n",
    "        else:\n",
    "            return False\n",
    "\n",
    "    def move_left(self):\n",
    "        if Graph.has_edge(self.node, self.node - 1):\n",
    "            self.x = self.x - self.step\n",
    "            self.node = self.node - 1\n",
    "            return True\n",
    "        else:\n",
    "            return False\n",
    "\n",
    "    def move_right(self):\n",
    "        if Graph.has_edge(self.node, self.node + 1):\n",
    "            self.x = self.x + self.step\n",
    "            self.node = self.node + 1\n",
    "            return True\n",
    "        else:\n",
    "            return False\n",
    "\n",
    "    def move_down(self):\n",
    "        if Graph.has_edge(self.node, self.node + DIM):\n",
    "            self.y = self.y + self.step\n",
    "            self.node = self.node + DIM\n",
    "            return True\n",
    "        else:\n",
    "            return False\n",
    "\n",
    "    def check_win(self):\n",
    "        if self.node >= DIM * 8:\n",
    "            print(\"---------------------------\")\n",
    "            print(\" Bot won\")\n",
    "            print(\"---------------------------\")\n",
    "            return True\n",
    "        else:\n",
    "            return False\n",
    "\n",
    "    def draw(self):\n",
    "        pygame.draw.ellipse(screen, AZUL, (self.x, self.y, self.width, self.width))"
   ],
   "execution_count": 7,
   "outputs": []
  },
  {
   "cell_type": "markdown",
   "metadata": {
    "id": "TQq2eyoWgqT9"
   },
   "source": [
    "Clase del jugador para el personaje jugable"
   ]
  },
  {
   "cell_type": "code",
   "metadata": {
    "id": "Uw6q9MzCeJRN"
   },
   "source": [
    "# Player Class\n",
    "class Player:\n",
    "    def __init__(self, node, x, y, barriers, name):\n",
    "        self.node = node\n",
    "        self.barriers = barriers\n",
    "        self.name = name\n",
    "        self.x = x\n",
    "        self.y = y\n",
    "        self.type = type\n",
    "        self.step = 80\n",
    "        self.width = 60\n",
    "        self.has_played = False\n",
    "\n",
    "    def move_up(self):\n",
    "        if Graph.has_edge(self.node, self.node - DIM):\n",
    "            self.y = self.y - self.step\n",
    "            self.node = self.node - DIM\n",
    "            self.has_played = True\n",
    "            return True\n",
    "        else:\n",
    "            return False\n",
    "\n",
    "    def move_left(self):\n",
    "        if Graph.has_edge(self.node, self.node - 1):\n",
    "            self.x = self.x - self.step\n",
    "            self.node = self.node - 1\n",
    "            self.has_played = True\n",
    "            return True\n",
    "        else:\n",
    "            return False\n",
    "\n",
    "    def move_right(self):\n",
    "        if self.node + 1 == 81:\n",
    "            return False\n",
    "        if Graph.has_edge(self.node, self.node + 1):\n",
    "            self.x = self.x + self.step\n",
    "            self.node = self.node + 1\n",
    "            self.has_played = True\n",
    "            return True\n",
    "        else:\n",
    "            return False\n",
    "\n",
    "    def move_down(self):\n",
    "        if Graph.has_edge(self.node, self.node + DIM):\n",
    "            self.y = self.y + self.step\n",
    "            self.node = self.node + DIM\n",
    "            self.has_played = True\n",
    "            return True\n",
    "        else:\n",
    "            return False\n",
    "\n",
    "    def check_win(self):\n",
    "        if self.node < DIM:\n",
    "            print(\"---------------------------\")\n",
    "            print(\" Player won\")\n",
    "            print(\"---------------------------\")\n",
    "            return True\n",
    "        else:\n",
    "            return False\n",
    "\n",
    "    def draw(self):\n",
    "        pygame.draw.ellipse(screen, NEGRO, (self.x, self.y, self.width, self.width))"
   ],
   "execution_count": 8,
   "outputs": []
  },
  {
   "cell_type": "markdown",
   "metadata": {
    "id": "5cutONYNgvhE"
   },
   "source": [
    "Clase de la funcionalidad de barreras que actuan como obstaculos"
   ]
  },
  {
   "cell_type": "code",
   "metadata": {
    "id": "ttGXd-5PeOsN"
   },
   "source": [
    "# Barrier Class\n",
    "class Barrier:\n",
    "    def __init__(self, player_node, x, y):\n",
    "        self.player_node = player_node\n",
    "        self.x = x\n",
    "        self.y = y\n",
    "        self.angle = 90\n",
    "        self.step = 80\n",
    "        self.width = 9\n",
    "        self.height = 160\n",
    "\n",
    "    def draw(self):\n",
    "        if self.angle == 90:  # |\n",
    "            pygame.draw.rect(screen, NEGRO, (self.x, self.y, self.width, self.height))\n",
    "        elif self.angle == 180:  # -\n",
    "            pygame.draw.rect(screen, NEGRO, (self.x + 4, self.y - 4, self.height, self.width))\n",
    "\n",
    "    def rotate(self):\n",
    "        if self.angle == 90:\n",
    "            self.angle = 180\n",
    "        elif self.angle == 180:\n",
    "            self.angle = 90\n",
    "\n",
    "    def move_up(self):\n",
    "        if self.y == 12:\n",
    "            return False\n",
    "        self.y = self.y - self.step\n",
    "        self.player_node = self.player_node - DIM\n",
    "        return True\n",
    "\n",
    "    def move_left(self):\n",
    "        if self.x == 9:\n",
    "            return False\n",
    "        self.x = self.x - self.step\n",
    "        self.player_node = self.player_node - 1\n",
    "        return True\n",
    "\n",
    "    def move_right(self):\n",
    "        if self.x == 649:\n",
    "            return False\n",
    "        self.x = self.x + self.step\n",
    "        self.player_node = self.player_node + 1\n",
    "        return True\n",
    "\n",
    "    def move_down(self):\n",
    "        if self.y == 652:\n",
    "            return False\n",
    "        self.y = self.y + self.step\n",
    "        self.player_node = self.player_node + DIM\n",
    "        return True\n",
    "\n",
    "    def save(self):\n",
    "        if self.angle == 90:\n",
    "            Graph.remove_edge(self.player_node, self.player_node - 1)\n",
    "            Graph.remove_edge(self.player_node + DIM, self.player_node + 8)\n",
    "        elif self.angle == 180:\n",
    "            Graph.remove_edge(self.player_node, self.player_node - DIM)\n",
    "            Graph.remove_edge(self.player_node + 1, self.player_node - 8)"
   ],
   "execution_count": 9,
   "outputs": []
  },
  {
   "cell_type": "markdown",
   "metadata": {
    "id": "ot3-ArtdhIU-"
   },
   "source": [
    "Funcion de dibujado de las cuadriculas y la declaracion de objetos de las clases anteriores"
   ]
  },
  {
   "cell_type": "code",
   "metadata": {
    "id": "Uryhmd67eTh1"
   },
   "source": [
    "# Draw map\n",
    "def draw_map():\n",
    "    block_size = RES / DIM\n",
    "    for x in range(DIM):\n",
    "        for y in range(DIM):\n",
    "            rect = pygame.Rect(x * block_size, y * block_size, block_size, block_size)\n",
    "            pygame.draw.rect(screen, MARRON, rect, 1)\n",
    "\n",
    "\n",
    "# Game Mechanics\n",
    "bot = Bot(4, 329, 12, 10, \"Terminator\")\n",
    "player = Player(76, 329, 652, 10, \"Marco\")\n",
    "barrier = Barrier(0, -10, -10)"
   ],
   "execution_count": 10,
   "outputs": []
  },
  {
   "cell_type": "markdown",
   "metadata": {
    "id": "YFwyrUSWhPQJ"
   },
   "source": [
    "Ciclo while del juego. Se termina cuando ocurre una victoria"
   ]
  },
  {
   "cell_type": "code",
   "metadata": {
    "id": "PTzxriGLepED"
   },
   "source": [
    "while running:\n",
    "    # Check player or bot victory\n",
    "    if player.check_win():\n",
    "        running = False\n",
    "    elif bot.check_win():\n",
    "        running = False\n",
    "\n",
    "    # Screen Background\n",
    "    if not editorMode:\n",
    "        screen.fill((139, 69, 19))\n",
    "    else:\n",
    "        screen.fill((191, 125, 59))\n",
    "\n",
    "    # Event Handler\n",
    "    for event in pygame.event.get():\n",
    "        if event.type == pygame.QUIT:\n",
    "            running = False\n",
    "        if event.type == pygame.KEYDOWN:\n",
    "            if not player.has_played:\n",
    "                if not editorMode:\n",
    "                    # Player's turn\n",
    "                    if event.key == pygame.K_SPACE:\n",
    "                        editorMode = True\n",
    "                        barrier = Barrier(player.node, player.x - 13, player.y - 12)\n",
    "                        print(\"Editor mode: enabled\")\n",
    "                    elif event.key == pygame.K_UP:\n",
    "                        player.move_up()\n",
    "                    elif event.key == pygame.K_DOWN:\n",
    "                        player.move_down()\n",
    "                    elif event.key == pygame.K_LEFT:\n",
    "                        player.move_left()\n",
    "                    elif event.key == pygame.K_RIGHT:\n",
    "                        player.move_right()\n",
    "                    print(\"Player node: \", player.node, \"(X: \", player.x, \" Y: \", player.y, \")\")\n",
    "                else:\n",
    "                    # Editor Mode\n",
    "                    if event.key == pygame.K_ESCAPE:\n",
    "                        editorMode = False\n",
    "                        print(\"Editor mode: disabled\")\n",
    "                    elif event.key == pygame.K_r:\n",
    "                        barrier.rotate()\n",
    "                    elif event.key == pygame.K_UP:\n",
    "                        barrier.move_up()\n",
    "                    elif event.key == pygame.K_DOWN:\n",
    "                        barrier.move_down()\n",
    "                    elif event.key == pygame.K_LEFT:\n",
    "                        barrier.move_left()\n",
    "                    elif event.key == pygame.K_RIGHT:\n",
    "                        barrier.move_right()\n",
    "                    elif event.key == pygame.K_SPACE:\n",
    "                        editorMode = False\n",
    "                        barrier.save()\n",
    "                        barriers.append(barrier)\n",
    "                        print(\"New barrier added, exiting editor mode\")\n",
    "                    print(\"Barrier node: \", barrier.player_node, \"(X: \", barrier.x, \" Y: \", barrier.y, \")\")\n",
    "            else:\n",
    "                t0 = time.time()\n",
    "                # Bot's turn\n",
    "                bot.make_move()\n",
    "                player.has_played = False\n",
    "                print(\"Bot node:    \", bot.node, \"(X: \", bot.x, \" Y: \", bot.y, \")\")\n",
    "                print(time.time() - t0)\n",
    "    # Drawing\n",
    "    draw_map()\n",
    "    bot.draw()\n",
    "    player.draw()\n",
    "    barrier.draw()\n",
    "    player.check_win()\n",
    "    for obj in barriers:\n",
    "        obj.draw()\n",
    "    if editorMode:\n",
    "        screen.blit(textsurface, (15, 15))\n",
    "    pygame.display.update()"
   ],
   "execution_count": 11,
   "outputs": []
  }
 ]
}